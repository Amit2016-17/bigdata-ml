{
 "cells": [
  {
   "cell_type": "markdown",
   "metadata": {},
   "source": [
    "# Fashion MNIST Recognition with Tensorflow"
   ]
  },
  {
   "cell_type": "markdown",
   "metadata": {},
   "source": [
    "In this notebook we will build Fashion MNIST recognition system in python using **tensorflow** library and **Fashion mnist** dataset."
   ]
  },
  {
   "cell_type": "markdown",
   "metadata": {
    "colab_type": "text",
    "id": "VSzTsu0cc7Rg"
   },
   "source": [
    "### Import Tensor Flow Library\n"
   ]
  },
  {
   "cell_type": "code",
   "execution_count": null,
   "metadata": {
    "colab": {},
    "colab_type": "code",
    "id": "j3hHczUxwIHo"
   },
   "outputs": [],
   "source": [
    "# Import Tensor Flow Library\n",
    "import tensorflow as tf\n",
    "import matplotlib.pyplot as plt\n",
    "import numpy as np"
   ]
  },
  {
   "cell_type": "markdown",
   "metadata": {
    "colab_type": "text",
    "id": "0c32omqcc-0N"
   },
   "source": [
    "### Define CallBack class"
   ]
  },
  {
   "cell_type": "code",
   "execution_count": 4,
   "metadata": {
    "colab": {},
    "colab_type": "code",
    "id": "FfWW1OQCwLjL"
   },
   "outputs": [],
   "source": [
    "# Create call back class and define the \"on_epoch_end\" function which will be called at the end of each epoch.\n",
    "# In this function we are stopping the training as soon as accuracy will reach 95%.\n",
    "\n",
    "class myCallback(tf.keras.callbacks.Callback):\n",
    "    def on_epoch_end(self, epoch, logs={}):\n",
    "        if(logs.get('acc')>0.95):\n",
    "            print(\"\\nTraining Cancelled on 95% of accuracy.\")\n",
    "            self.model.stop_training = True\n",
    "callbacks = myCallback()"
   ]
  },
  {
   "cell_type": "markdown",
   "metadata": {
    "colab_type": "text",
    "id": "E93aPPArdG7X"
   },
   "source": [
    "### Load Fashion MNIST Dataset"
   ]
  },
  {
   "cell_type": "code",
   "execution_count": 5,
   "metadata": {
    "colab": {
     "base_uri": "https://localhost:8080/",
     "height": 153
    },
    "colab_type": "code",
    "id": "bY9JvQWIwocU",
    "outputId": "6a96b70d-3e40-4791-c636-0d083e087fa4"
   },
   "outputs": [],
   "source": [
    "# Load Dataset and divide into Train and Test\n",
    "fashion = tf.keras.datasets.fashion_mnist\n",
    "(train_features, train_label), (test_features, test_label) = fashion.load_data()\n",
    "# training_images : This array contains the images of training data.\n",
    "# training_label : This array contains label for training data.\n",
    "# test_images : This array contains images for test data.\n",
    "# test_label : This array contains label for test data."
   ]
  },
  {
   "cell_type": "markdown",
   "metadata": {
    "colab_type": "text",
    "id": "WXGrmlYndKCQ"
   },
   "source": [
    "### Display Sample Images"
   ]
  },
  {
   "cell_type": "code",
   "execution_count": 6,
   "metadata": {
    "colab": {
     "base_uri": "https://localhost:8080/",
     "height": 1000
    },
    "colab_type": "code",
    "id": "GFG7DZtNWTLl",
    "outputId": "547c9f50-0dc6-42bd-a1a1-a7fca672af42"
   },
   "outputs": [
    {
     "name": "stdout",
     "output_type": "stream",
     "text": [
      "Image as Array :  [[  0   0   0   0   0   0   0   0   0   0   0   0   0   0   0   0   0   0\n",
      "    0   0   0   0   0   0   0   0   0   0]\n",
      " [  0   0   0   0   0   0   0   0   0   0   0   0   0   0   0   0   0   0\n",
      "    0   0   0   0   0   0   0   0   0   0]\n",
      " [  0   0   0   0   0   0   0   0   0   0   0   0   0   0   0   0   0   0\n",
      "    0   0   0   0   0   0   0   0   0   0]\n",
      " [  0   0   0   0   0   0   0   0   0   0   0   0   1   0   0  13  73   0\n",
      "    0   1   4   0   0   0   0   1   1   0]\n",
      " [  0   0   0   0   0   0   0   0   0   0   0   0   3   0  36 136 127  62\n",
      "   54   0   0   0   1   3   4   0   0   3]\n",
      " [  0   0   0   0   0   0   0   0   0   0   0   0   6   0 102 204 176 134\n",
      "  144 123  23   0   0   0   0  12  10   0]\n",
      " [  0   0   0   0   0   0   0   0   0   0   0   0   0   0 155 236 207 178\n",
      "  107 156 161 109  64  23  77 130  72  15]\n",
      " [  0   0   0   0   0   0   0   0   0   0   0   1   0  69 207 223 218 216\n",
      "  216 163 127 121 122 146 141  88 172  66]\n",
      " [  0   0   0   0   0   0   0   0   0   1   1   1   0 200 232 232 233 229\n",
      "  223 223 215 213 164 127 123 196 229   0]\n",
      " [  0   0   0   0   0   0   0   0   0   0   0   0   0 183 225 216 223 228\n",
      "  235 227 224 222 224 221 223 245 173   0]\n",
      " [  0   0   0   0   0   0   0   0   0   0   0   0   0 193 228 218 213 198\n",
      "  180 212 210 211 213 223 220 243 202   0]\n",
      " [  0   0   0   0   0   0   0   0   0   1   3   0  12 219 220 212 218 192\n",
      "  169 227 208 218 224 212 226 197 209  52]\n",
      " [  0   0   0   0   0   0   0   0   0   0   6   0  99 244 222 220 218 203\n",
      "  198 221 215 213 222 220 245 119 167  56]\n",
      " [  0   0   0   0   0   0   0   0   0   4   0   0  55 236 228 230 228 240\n",
      "  232 213 218 223 234 217 217 209  92   0]\n",
      " [  0   0   1   4   6   7   2   0   0   0   0   0 237 226 217 223 222 219\n",
      "  222 221 216 223 229 215 218 255  77   0]\n",
      " [  0   3   0   0   0   0   0   0   0  62 145 204 228 207 213 221 218 208\n",
      "  211 218 224 223 219 215 224 244 159   0]\n",
      " [  0   0   0   0  18  44  82 107 189 228 220 222 217 226 200 205 211 230\n",
      "  224 234 176 188 250 248 233 238 215   0]\n",
      " [  0  57 187 208 224 221 224 208 204 214 208 209 200 159 245 193 206 223\n",
      "  255 255 221 234 221 211 220 232 246   0]\n",
      " [  3 202 228 224 221 211 211 214 205 205 205 220 240  80 150 255 229 221\n",
      "  188 154 191 210 204 209 222 228 225   0]\n",
      " [ 98 233 198 210 222 229 229 234 249 220 194 215 217 241  65  73 106 117\n",
      "  168 219 221 215 217 223 223 224 229  29]\n",
      " [ 75 204 212 204 193 205 211 225 216 185 197 206 198 213 240 195 227 245\n",
      "  239 223 218 212 209 222 220 221 230  67]\n",
      " [ 48 203 183 194 213 197 185 190 194 192 202 214 219 221 220 236 225 216\n",
      "  199 206 186 181 177 172 181 205 206 115]\n",
      " [  0 122 219 193 179 171 183 196 204 210 213 207 211 210 200 196 194 191\n",
      "  195 191 198 192 176 156 167 177 210  92]\n",
      " [  0   0  74 189 212 191 175 172 175 181 185 188 189 188 193 198 204 209\n",
      "  210 210 211 188 188 194 192 216 170   0]\n",
      " [  2   0   0   0  66 200 222 237 239 242 246 243 244 221 220 193 191 179\n",
      "  182 182 181 176 166 168  99  58   0   0]\n",
      " [  0   0   0   0   0   0   0  40  61  44  72  41  35   0   0   0   0   0\n",
      "    0   0   0   0   0   0   0   0   0   0]\n",
      " [  0   0   0   0   0   0   0   0   0   0   0   0   0   0   0   0   0   0\n",
      "    0   0   0   0   0   0   0   0   0   0]\n",
      " [  0   0   0   0   0   0   0   0   0   0   0   0   0   0   0   0   0   0\n",
      "    0   0   0   0   0   0   0   0   0   0]]\n",
      "Label :  9\n"
     ]
    },
    {
     "data": {
      "image/png": "[encoded data removed]",
      "text/plain": [
       "<Figure size 432x288 with 1 Axes>"
      ]
     },
     "metadata": {
      "needs_background": "light"
     },
     "output_type": "display_data"
    }
   ],
   "source": [
    "## Display sample images\n",
    "INDEX = 0\n",
    "plt.imshow(train_features[INDEX])\n",
    "print(\"Image as Array : \", train_features[INDEX])\n",
    "print(\"Label : \", train_label[INDEX])"
   ]
  },
  {
   "cell_type": "markdown",
   "metadata": {
    "colab_type": "text",
    "id": "OI8MLCdNdOYX"
   },
   "source": [
    "### Normalize the Dataset"
   ]
  },
  {
   "cell_type": "code",
   "execution_count": 7,
   "metadata": {
    "colab": {},
    "colab_type": "code",
    "id": "Rg5M7E_fwmFG"
   },
   "outputs": [],
   "source": [
    "# Adding Depth of the Color and Normalize Datasets\n",
    "# Reshape the dataset to add 4th dimention which represent the Depth of the image. \n",
    "# Since we are using Grey scale images it will be 1-Byte, which means the values for each pixel between 0-255.\n",
    "# Normalize the Training Dataset.\n",
    "norm_train_features = train_features.reshape(60000, 28, 28, 1) / 255.0\n",
    "norm_test_features = test_features.reshape(10000, 28, 28, 1) / 255.0"
   ]
  },
  {
   "cell_type": "markdown",
   "metadata": {
    "colab_type": "text",
    "id": "9TGesixYdSYX"
   },
   "source": [
    "### Define Neural Network"
   ]
  },
  {
   "cell_type": "code",
   "execution_count": 8,
   "metadata": {
    "colab": {
     "base_uri": "https://localhost:8080/",
     "height": 88
    },
    "colab_type": "code",
    "id": "5MT2vDZHw7Yx",
    "outputId": "dcf7a215-16cd-4c41-e29e-9ee34dcd5215"
   },
   "outputs": [
    {
     "name": "stdout",
     "output_type": "stream",
     "text": [
      "WARNING:tensorflow:From /opt/conda/lib/python3.7/site-packages/tensorflow/python/ops/init_ops.py:1251: calling VarianceScaling.__init__ (from tensorflow.python.ops.init_ops) with dtype is deprecated and will be removed in a future version.\n",
      "Instructions for updating:\n",
      "Call initializer instance with the dtype argument instead of passing it to the constructor\n"
     ]
    }
   ],
   "source": [
    "# Create Neural Network.\n",
    "# Layers : 3 (Input, Hidden - 1, Output)\n",
    "# Convolution Yes.\n",
    "# Max Pooling : Yes.\n",
    "\n",
    "nn_model = tf.keras.models.Sequential([\n",
    "    # 16 : No of filters and (3,3) is dimention of the filter.\n",
    "    tf.keras.layers.Conv2D(16, (3,3), activation='relu', input_shape=(28, 28, 1)),\n",
    "    tf.keras.layers.MaxPooling2D(2, 2),\n",
    "    \n",
    "    # Input Layer.\n",
    "    tf.keras.layers.Flatten(),\n",
    "    # First hidden layer.\n",
    "    tf.keras.layers.Dense(128, activation='relu'),\n",
    "    # Output layer.\n",
    "    tf.keras.layers.Dense(10, activation='softmax')\n",
    "])"
   ]
  },
  {
   "cell_type": "markdown",
   "metadata": {
    "colab_type": "text",
    "id": "sAmcUqx5dWOR"
   },
   "source": [
    "### Explore Model Summary"
   ]
  },
  {
   "cell_type": "code",
   "execution_count": 9,
   "metadata": {
    "colab": {
     "base_uri": "https://localhost:8080/",
     "height": 323
    },
    "colab_type": "code",
    "id": "G-pyWI1IDkpQ",
    "outputId": "1985465b-d423-4435-8468-9d07c437c209"
   },
   "outputs": [
    {
     "name": "stdout",
     "output_type": "stream",
     "text": [
      "Model: \"sequential\"\n",
      "_________________________________________________________________\n",
      "Layer (type)                 Output Shape              Param #   \n",
      "=================================================================\n",
      "conv2d (Conv2D)              (None, 26, 26, 16)        160       \n",
      "_________________________________________________________________\n",
      "max_pooling2d (MaxPooling2D) (None, 13, 13, 16)        0         \n",
      "_________________________________________________________________\n",
      "flatten (Flatten)            (None, 2704)              0         \n",
      "_________________________________________________________________\n",
      "dense (Dense)                (None, 128)               346240    \n",
      "_________________________________________________________________\n",
      "dense_1 (Dense)              (None, 10)                1290      \n",
      "=================================================================\n",
      "Total params: 347,690\n",
      "Trainable params: 347,690\n",
      "Non-trainable params: 0\n",
      "_________________________________________________________________\n"
     ]
    }
   ],
   "source": [
    "nn_model.summary()"
   ]
  },
  {
   "cell_type": "markdown",
   "metadata": {
    "colab_type": "text",
    "id": "GjR4GI-MdZYx"
   },
   "source": [
    "### Compile Neural Network"
   ]
  },
  {
   "cell_type": "code",
   "execution_count": 10,
   "metadata": {
    "colab": {},
    "colab_type": "code",
    "id": "hV2nfFHvxBeR"
   },
   "outputs": [],
   "source": [
    "# Compile the NN\n",
    "nn_model.compile(optimizer = 'adam', loss = 'sparse_categorical_crossentropy', metrics = [['accuracy', 'mse']])"
   ]
  },
  {
   "cell_type": "markdown",
   "metadata": {
    "colab_type": "text",
    "id": "MCok6a0RdckD"
   },
   "source": [
    "### Train Neural Network"
   ]
  },
  {
   "cell_type": "code",
   "execution_count": 12,
   "metadata": {
    "colab": {
     "base_uri": "https://localhost:8080/",
     "height": 340
    },
    "colab_type": "code",
    "id": "oM4jjDCCxYwf",
    "outputId": "933fe723-038c-475b-e966-c2d19661fd94"
   },
   "outputs": [
    {
     "name": "stdout",
     "output_type": "stream",
     "text": [
      "Epoch 1/10\n",
      "60000/60000 [==============================] - 12s 196us/sample - loss: 0.3990 - acc: 0.8571 - mean_squared_error: 27.6783\n",
      "Epoch 2/10\n",
      "60000/60000 [==============================] - 12s 200us/sample - loss: 0.2774 - acc: 0.8986 - mean_squared_error: 27.6850\n",
      "Epoch 3/10\n",
      "60000/60000 [==============================] - 12s 200us/sample - loss: 0.2358 - acc: 0.9125 - mean_squared_error: 27.6870\n",
      "Epoch 4/10\n",
      "60000/60000 [==============================] - 12s 194us/sample - loss: 0.2070 - acc: 0.9241 - mean_squared_error: 27.6884\n",
      "Epoch 5/10\n",
      "60000/60000 [==============================] - 13s 213us/sample - loss: 0.1794 - acc: 0.9337 - mean_squared_error: 27.6898\n",
      "Epoch 6/10\n",
      "60000/60000 [==============================] - 12s 204us/sample - loss: 0.1586 - acc: 0.9406 - mean_squared_error: 27.6908\n",
      "Epoch 7/10\n",
      "60000/60000 [==============================] - 12s 202us/sample - loss: 0.1394 - acc: 0.9485 - mean_squared_error: 27.6918\n",
      "Epoch 8/10\n",
      "59776/60000 [============================>.] - ETA: 0s - loss: 0.1200 - acc: 0.9559 - mean_squared_error: 27.6844\n",
      "Training Cancelled on 95% of accuracy.\n",
      "60000/60000 [==============================] - 12s 201us/sample - loss: 0.1199 - acc: 0.9559 - mean_squared_error: 27.6927\n"
     ]
    },
    {
     "data": {
      "text/plain": [
       "<tensorflow.python.keras.callbacks.History at 0x7f172d46bd30>"
      ]
     },
     "execution_count": 12,
     "metadata": {},
     "output_type": "execute_result"
    }
   ],
   "source": [
    "# Let's try to traing out Neural Network model.\n",
    "# epoch : Here we using 10 epochs. Feel free to play with it and check the accuracy.\n",
    "# callbacks : As per above definition of callback, it will stop training once the accuracy will reach 95%.\n",
    "\n",
    "nn_model.fit(norm_train_features, train_label, epochs=10, callbacks=[callbacks])"
   ]
  },
  {
   "cell_type": "markdown",
   "metadata": {
    "colab_type": "text",
    "id": "U-gP9hBFdfp8"
   },
   "source": [
    "### Evaluate Neural Network"
   ]
  },
  {
   "cell_type": "code",
   "execution_count": 14,
   "metadata": {
    "colab": {
     "base_uri": "https://localhost:8080/",
     "height": 51
    },
    "colab_type": "code",
    "id": "h7cReX1OyltG",
    "outputId": "73f45a9a-f647-4f40-aba6-3269128f2ed7"
   },
   "outputs": [
    {
     "name": "stdout",
     "output_type": "stream",
     "text": [
      "10000/10000 [==============================] - 1s 77us/sample - loss: 0.2974 - acc: 0.9090 - mean_squared_error: 27.6923\n"
     ]
    },
    {
     "data": {
      "text/plain": [
       "[0.2973931317478418, 0.909, 27.692318]"
      ]
     },
     "execution_count": 14,
     "metadata": {},
     "output_type": "execute_result"
    }
   ],
   "source": [
    "# Evaluate the Model\n",
    "nn_model.evaluate(norm_test_features, test_label)"
   ]
  },
  {
   "cell_type": "markdown",
   "metadata": {
    "colab_type": "text",
    "id": "TxomBX08di9b"
   },
   "source": [
    "## Prediction"
   ]
  },
  {
   "cell_type": "markdown",
   "metadata": {
    "colab_type": "text",
    "id": "hMKsdFa_dlqQ"
   },
   "source": [
    "### Check Sample Image on any Index"
   ]
  },
  {
   "cell_type": "code",
   "execution_count": 15,
   "metadata": {
    "colab": {
     "base_uri": "https://localhost:8080/",
     "height": 303
    },
    "colab_type": "code",
    "id": "Zs9TLX7B8W-u",
    "outputId": "cc5188dd-1632-42d0-cc40-dbdf20cb9308"
   },
   "outputs": [
    {
     "name": "stdout",
     "output_type": "stream",
     "text": [
      "4\n"
     ]
    },
    {
     "data": {
      "text/plain": [
       "<matplotlib.image.AxesImage at 0x7f171046f908>"
      ]
     },
     "execution_count": 15,
     "metadata": {},
     "output_type": "execute_result"
    },
    {
     "data": {
      "image/png": "[encoded data removed]",
      "text/plain": [
       "<Figure size 432x288 with 1 Axes>"
      ]
     },
     "metadata": {
      "needs_background": "light"
     },
     "output_type": "display_data"
    }
   ],
   "source": [
    "# Check the label of 10th Index Image. It looks like a shirt and label of the shirt is \"4\".\n",
    "INDEX = 10\n",
    "print (test_label[INDEX])\n",
    "plt.imshow(test_features[INDEX])"
   ]
  },
  {
   "cell_type": "markdown",
   "metadata": {
    "colab_type": "text",
    "id": "Z7n6zyMudpfX"
   },
   "source": [
    "### Check the Prediction"
   ]
  },
  {
   "cell_type": "code",
   "execution_count": 18,
   "metadata": {
    "colab": {
     "base_uri": "https://localhost:8080/",
     "height": 34
    },
    "colab_type": "code",
    "id": "Cwjiq6V58ood",
    "outputId": "b2181868-0040-4706-8035-4e10864e2d26"
   },
   "outputs": [
    {
     "name": "stdout",
     "output_type": "stream",
     "text": [
      "Predicted value of image at Index : 10 is 4.\n"
     ]
    }
   ],
   "source": [
    "# Predict the Probability of the Images. check the Probablity at Index 10.\n",
    "# You have seen that Image at INDEX : 10 is \"shirt\" whose label is represented as 4.\n",
    "# Now lets try to predict using our Neural Network model.\n",
    "# Since in the prediction you will get the probability of each number, \n",
    "# which means you will get list of 10 probabilities.\n",
    "# argmax : Returns the indices of the maximum values along an axis.\n",
    "\n",
    "prediction = np.argmax(nn_model.predict(norm_test_features)[INDEX])\n",
    "\n",
    "print(\"Predicted value of image at Index : {0} is {1}.\".format(INDEX, prediction))\n",
    "# Note : label for shirt is 4, which means we have predicted correct value. "
   ]
  },
  {
   "cell_type": "markdown",
   "metadata": {
    "colab": {},
    "colab_type": "code",
    "id": "k0lWDqdP8zc6"
   },
   "source": [
    "# THANK You : End of Fashion MNIST Recognition."
   ]
  }
 ],
 "metadata": {
  "colab": {
   "name": "Exercise 3 - MNIST using Convolution.ipynb",
   "provenance": [],
   "version": "0.3.2"
  },
  "kernelspec": {
   "display_name": "Python 3",
   "language": "python",
   "name": "python3"
  },
  "language_info": {
   "codemirror_mode": {
    "name": "ipython",
    "version": 3
   },
   "file_extension": ".py",
   "mimetype": "text/x-python",
   "name": "python",
   "nbconvert_exporter": "python",
   "pygments_lexer": "ipython3",
   "version": "3.7.3"
  }
 },
 "nbformat": 4,
 "nbformat_minor": 1
}
